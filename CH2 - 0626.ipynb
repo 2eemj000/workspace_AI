{
 "cells": [
  {
   "cell_type": "markdown",
   "id": "bfd26630-16c1-49a1-8862-ce7ac6eab8d2",
   "metadata": {},
   "source": [
    "## p.56- NUMPY 배열 연산 (Universial Functions)"
   ]
  },
  {
   "cell_type": "code",
   "execution_count": 7,
   "id": "a18ed414-e3f8-4aa9-b9a0-9913520e3195",
   "metadata": {},
   "outputs": [],
   "source": [
    "import numpy as np"
   ]
  },
  {
   "cell_type": "code",
   "execution_count": 53,
   "id": "3520a5fc-64a1-4eb7-8eec-6f231f7eee6d",
   "metadata": {},
   "outputs": [
    {
     "data": {
      "text/plain": [
       "array([2, 3, 4])"
      ]
     },
     "execution_count": 53,
     "metadata": {},
     "output_type": "execute_result"
    }
   ],
   "source": [
    "np.array([1,2,3])+1 "
   ]
  },
  {
   "cell_type": "code",
   "execution_count": 31,
   "id": "a6402294-f132-4f1d-bf9b-3e5382ab2635",
   "metadata": {},
   "outputs": [],
   "source": [
    "def calc(values):\n",
    "    results = []\n",
    "    for i in values:\n",
    "        results.append(1 / i)\n",
    "    return results"
   ]
  },
  {
   "cell_type": "code",
   "execution_count": 32,
   "id": "21f9e5fd-2108-46be-aeae-0ae4ebf508a6",
   "metadata": {},
   "outputs": [
    {
     "data": {
      "text/plain": [
       "999999"
      ]
     },
     "execution_count": 32,
     "metadata": {},
     "output_type": "execute_result"
    }
   ],
   "source": [
    "data = range(1,1000000)\n",
    "len(calc(data))"
   ]
  },
  {
   "cell_type": "code",
   "execution_count": 11,
   "id": "9383d722-73ef-4cb9-b25f-58ddaa99113f",
   "metadata": {},
   "outputs": [
    {
     "name": "stdout",
     "output_type": "stream",
     "text": [
      "138 ns ± 0.43 ns per loop (mean ± std. dev. of 7 runs, 10,000,000 loops each)\n"
     ]
    }
   ],
   "source": [
    "%timeit calc(data)"
   ]
  },
  {
   "cell_type": "code",
   "execution_count": 19,
   "id": "e12ef9cc-1c02-4637-b98c-90f49c33f78a",
   "metadata": {},
   "outputs": [
    {
     "data": {
      "text/plain": [
       "(999999,)"
      ]
     },
     "execution_count": 19,
     "metadata": {},
     "output_type": "execute_result"
    }
   ],
   "source": [
    "data = np.arange(1,1000000) # numpy를 사용해야 처리가 빨라짐\n",
    "(1/data).shape"
   ]
  },
  {
   "cell_type": "code",
   "execution_count": 16,
   "id": "d4ad72f1-4f7b-4b4a-b0b3-f95769ab5b96",
   "metadata": {},
   "outputs": [
    {
     "name": "stdout",
     "output_type": "stream",
     "text": [
      "211 ns ± 5.16 ns per loop (mean ± std. dev. of 7 runs, 1,000,000 loops each)\n"
     ]
    }
   ],
   "source": [
    "%timeit calc(data)"
   ]
  },
  {
   "cell_type": "code",
   "execution_count": 17,
   "id": "aa1f47ad-8505-49c8-af08-37d3e9674587",
   "metadata": {},
   "outputs": [
    {
     "name": "stdout",
     "output_type": "stream",
     "text": [
      "1.97 ms ± 46 µs per loop (mean ± std. dev. of 7 runs, 1,000 loops each)\n"
     ]
    }
   ],
   "source": [
    "%timeit 1/data"
   ]
  },
  {
   "cell_type": "code",
   "execution_count": 27,
   "id": "53931a7d-6944-4f08-adab-5fb56e4d61f8",
   "metadata": {},
   "outputs": [],
   "source": [
    "class Int:\n",
    "    def __init__(self,x):\n",
    "        self._x = x\n",
    "    def __add__(self,other):\n",
    "        return self._x+other._x\n",
    "    def __sub__(self,other):\n",
    "        return self._x-other._x"
   ]
  },
  {
   "cell_type": "code",
   "execution_count": 29,
   "id": "ec167e62-f6ac-4f9e-ae24-dc2962c59747",
   "metadata": {},
   "outputs": [
    {
     "data": {
      "text/plain": [
       "3"
      ]
     },
     "execution_count": 29,
     "metadata": {},
     "output_type": "execute_result"
    }
   ],
   "source": [
    "a=Int(1)\n",
    "b=Int(2)\n",
    "a+b"
   ]
  },
  {
   "cell_type": "code",
   "execution_count": 30,
   "id": "4264d082-061c-41d3-9d49-39cfd87a2d90",
   "metadata": {},
   "outputs": [
    {
     "data": {
      "text/plain": [
       "-1"
      ]
     },
     "execution_count": 30,
     "metadata": {},
     "output_type": "execute_result"
    }
   ],
   "source": [
    "a-b"
   ]
  },
  {
   "cell_type": "code",
   "execution_count": 35,
   "id": "055ccfda-fafb-4e76-81da-2c43cf4dcbbd",
   "metadata": {},
   "outputs": [
    {
     "name": "stdout",
     "output_type": "stream",
     "text": [
      "x   = [0 1 2 3]\n",
      "x+5 = [5 6 7 8]\n",
      "x-5 = [-5 -4 -3 -2]\n",
      "x*2 = [0 2 4 6]\n",
      "x/2 = [0.  0.5 1.  1.5]\n",
      "x//2= [0 0 1 1]\n"
     ]
    }
   ],
   "source": [
    "x = np.arange(4)\n",
    "print(\"x   =\",x)\n",
    "print(\"x+5 =\",x+5)\n",
    "print(\"x-5 =\",x-5)\n",
    "print(\"x*2 =\",x*2)\n",
    "print(\"x/2 =\",x/2)\n",
    "print(\"x//2=\",x//2) # 나머지는 버림"
   ]
  },
  {
   "cell_type": "code",
   "execution_count": 36,
   "id": "48a2beab-58d5-4718-9df7-190a909e0e70",
   "metadata": {},
   "outputs": [
    {
     "name": "stdout",
     "output_type": "stream",
     "text": [
      "-x   = [ 0 -1 -2 -3]\n",
      "x**2 = [0 1 4 9]\n",
      "x%2  = [0 1 0 1]\n"
     ]
    }
   ],
   "source": [
    "print(\"-x   =\",-x)\n",
    "print(\"x**2 =\",x**2)\n",
    "print(\"x%2  =\",x%2)"
   ]
  },
  {
   "cell_type": "code",
   "execution_count": 37,
   "id": "c398d573-b8b7-4286-88d4-9e508bc964fe",
   "metadata": {},
   "outputs": [
    {
     "data": {
      "text/plain": [
       "array([-1.  , -2.25, -4.  , -6.25])"
      ]
     },
     "execution_count": 37,
     "metadata": {},
     "output_type": "execute_result"
    }
   ],
   "source": [
    "-(0.5*x+1)**2"
   ]
  },
  {
   "cell_type": "code",
   "execution_count": 38,
   "id": "3774bb56-a693-4396-8735-fcc178730810",
   "metadata": {},
   "outputs": [
    {
     "data": {
      "text/plain": [
       "array([2, 3, 4, 5])"
      ]
     },
     "execution_count": 38,
     "metadata": {},
     "output_type": "execute_result"
    }
   ],
   "source": [
    "np.add(x,2)"
   ]
  },
  {
   "cell_type": "markdown",
   "id": "a691da3a-741c-4603-ab5e-66e1855de0e3",
   "metadata": {},
   "source": [
    "#### 절댓값 함수"
   ]
  },
  {
   "cell_type": "code",
   "execution_count": 39,
   "id": "b774f8e1-9dbe-4483-8d37-c0bac8a309ab",
   "metadata": {},
   "outputs": [
    {
     "data": {
      "text/plain": [
       "array([2, 1, 0, 1, 2])"
      ]
     },
     "execution_count": 39,
     "metadata": {},
     "output_type": "execute_result"
    }
   ],
   "source": [
    "x = np.array([-2,-1,0,1,2])\n",
    "abs(x) # abs : 절댓값 구하기 np.absolute함수 (np.abs로 사용도 가능)"
   ]
  },
  {
   "cell_type": "code",
   "execution_count": 40,
   "id": "48989003-a0b3-44c9-8ef3-06a2bc8baa19",
   "metadata": {},
   "outputs": [
    {
     "data": {
      "text/plain": [
       "array([2, 1, 0, 1, 2])"
      ]
     },
     "execution_count": 40,
     "metadata": {},
     "output_type": "execute_result"
    }
   ],
   "source": [
    "np.absolute(x)"
   ]
  },
  {
   "cell_type": "code",
   "execution_count": 41,
   "id": "637548bb-200e-45ff-9fea-a333b9745e8c",
   "metadata": {},
   "outputs": [
    {
     "data": {
      "text/plain": [
       "array([2, 1, 0, 1, 2])"
      ]
     },
     "execution_count": 41,
     "metadata": {},
     "output_type": "execute_result"
    }
   ],
   "source": [
    "np.abs(x)"
   ]
  },
  {
   "cell_type": "code",
   "execution_count": 43,
   "id": "c8892e53-b9f5-4ec3-beb2-c90858c622d4",
   "metadata": {},
   "outputs": [
    {
     "data": {
      "text/plain": [
       "array([5., 5., 2., 1.])"
      ]
     },
     "execution_count": 43,
     "metadata": {},
     "output_type": "execute_result"
    }
   ],
   "source": [
    "# 복소수데이터도 절댓값 처리 가능 (-> 이때는 크기를 반환함)\n",
    "# 복소수의 크기는 복소수 평면에서 원점(0, 0)으로부터 해당 복소수까지의 거리를 의미\n",
    "x = np.array([3-4j,4-3j,2+0j,0+1j])\n",
    "np.abs(x)"
   ]
  },
  {
   "cell_type": "markdown",
   "id": "0fafba71-2105-4082-8915-b1cbb6db6046",
   "metadata": {},
   "source": [
    "#### 삼각함수"
   ]
  },
  {
   "cell_type": "code",
   "execution_count": 44,
   "id": "d2361e79-f5e2-46e1-aaba-144f05dadc84",
   "metadata": {},
   "outputs": [],
   "source": [
    "# 삼각함수\n",
    "# 값은 기계정밀도 범위 내에서 계산 -> 0이어야 하는 값이 0이 안될 수도\n",
    "theta = np.linspace(0,np.pi,3)\n",
    "# 0은 시작값, np.pi(3.14~)는 끝값, 3은 배열에 포함할 요소의 개수 (균일하게 나눔)"
   ]
  },
  {
   "cell_type": "code",
   "execution_count": 45,
   "id": "35f46097-0035-43a8-a1ab-1515c0eeb292",
   "metadata": {},
   "outputs": [
    {
     "name": "stdout",
     "output_type": "stream",
     "text": [
      "theta      = [0.         1.57079633 3.14159265]\n",
      "sin(theta) = [0.0000000e+00 1.0000000e+00 1.2246468e-16]\n",
      "cos(theta) = [ 1.000000e+00  6.123234e-17 -1.000000e+00]\n",
      "tan(theta) = [ 0.00000000e+00  1.63312394e+16 -1.22464680e-16]\n"
     ]
    }
   ],
   "source": [
    "print(\"theta      =\",theta)\n",
    "print(\"sin(theta) =\",np.sin(theta))\n",
    "print(\"cos(theta) =\",np.cos(theta))\n",
    "print(\"tan(theta) =\",np.tan(theta))"
   ]
  },
  {
   "cell_type": "code",
   "execution_count": 46,
   "id": "f9b03f43-306c-4d56-a953-b81024958755",
   "metadata": {},
   "outputs": [
    {
     "name": "stdout",
     "output_type": "stream",
     "text": [
      "x         = [-1, 0, 1]\n",
      "arcsin(x) = [-1.57079633  0.          1.57079633]\n",
      "arccos(x) = [3.14159265 1.57079633 0.        ]\n",
      "arctan(x) = [-0.78539816  0.          0.78539816]\n"
     ]
    }
   ],
   "source": [
    "# 역삼각함수\n",
    "x = [-1,0,1]\n",
    "print(\"x         =\",x)\n",
    "print(\"arcsin(x) =\",np.arcsin(x))\n",
    "print(\"arccos(x) =\",np.arccos(x))\n",
    "print(\"arctan(x) =\",np.arctan(x))"
   ]
  },
  {
   "cell_type": "markdown",
   "id": "455a7c58-aa09-40b1-9b3b-6873ac464530",
   "metadata": {},
   "source": [
    "#### 지수와 로그"
   ]
  },
  {
   "cell_type": "code",
   "execution_count": 48,
   "id": "ece60b8b-c936-4023-8c12-6fcd06e6a8cc",
   "metadata": {},
   "outputs": [
    {
     "name": "stdout",
     "output_type": "stream",
     "text": [
      "x    = [1, 2, 3]\n",
      "e^x  = [ 2.71828183  7.3890561  20.08553692]\n",
      "2^x  = [2. 4. 8.]\n",
      "3^x  = [ 3  9 27]\n"
     ]
    }
   ],
   "source": [
    "# 지수와 로그\n",
    "# 지수\n",
    "x = [1,2,3]\n",
    "print(\"x    =\",x)\n",
    "print(\"e^x  =\",np.exp(x)) # e의 거듭제곱\n",
    "print(\"2^x  =\",np.exp2(x)) # 2의 거듭제곱\n",
    "print(\"3^x  =\",np.power(3,x)) # np.power() : 주어진 밑(base)과 지수(exponent)에 대해 거듭제곱"
   ]
  },
  {
   "cell_type": "code",
   "execution_count": 49,
   "id": "0988c6b6-587f-4811-8e89-5d5197bf46ae",
   "metadata": {},
   "outputs": [
    {
     "name": "stdout",
     "output_type": "stream",
     "text": [
      "x        = [1, 2, 4, 10]\n",
      "ln(x)    = [0.         0.69314718 1.38629436 2.30258509]\n",
      "log2(x)  = [0.         1.         2.         3.32192809]\n",
      "log10(x) = [0.         0.30103    0.60205999 1.        ]\n"
     ]
    }
   ],
   "source": [
    "# 로그(지수의 역)\n",
    "x = [1,2,4,10]\n",
    "print(\"x        =\",x)\n",
    "print(\"ln(x)    =\",np.log(x))\n",
    "print(\"log2(x)  =\",np.log2(x))\n",
    "print(\"log10(x) =\",np.log10(x))"
   ]
  },
  {
   "cell_type": "code",
   "execution_count": 51,
   "id": "5a46cde4-faf5-433f-98b6-c20abffb8954",
   "metadata": {},
   "outputs": [
    {
     "name": "stdout",
     "output_type": "stream",
     "text": [
      "exp(x) - 1= [0.         0.0010005  0.01005017 0.10517092]\n",
      "log(1 + x)= [0.         0.0009995  0.00995033 0.09531018]\n"
     ]
    }
   ],
   "source": [
    "# 로그계산할 때 x가 너무 작으면 특화된 함수 사용\n",
    "x = [0,0.001,0.01,0.1]\n",
    "print(\"exp(x) - 1=\",np.expm1(x)) # e의 거듭제곱 -1을 계산\n",
    "print(\"log(1 + x)=\",np.log1p(x)) # log(1+x)를 계산"
   ]
  },
  {
   "cell_type": "markdown",
   "id": "b74f98e1-8878-466d-a956-07f3e5ba1f1b",
   "metadata": {},
   "source": [
    "#### 최솟값, 최댓값 등"
   ]
  },
  {
   "cell_type": "code",
   "execution_count": 54,
   "id": "0dfbf75e-1a8b-4577-9f15-8ec831390ab2",
   "metadata": {},
   "outputs": [
    {
     "data": {
      "text/plain": [
       "array([[ 1,  2,  3,  4],\n",
       "       [ 5,  6,  7,  8],\n",
       "       [ 9, 10, 11, 12]])"
      ]
     },
     "execution_count": 54,
     "metadata": {},
     "output_type": "execute_result"
    }
   ],
   "source": [
    "data = np.arange(1,13).reshape(3,4)\n",
    "data"
   ]
  },
  {
   "cell_type": "code",
   "execution_count": 57,
   "id": "5745b9e7-73aa-4167-a00a-69c584a0f807",
   "metadata": {},
   "outputs": [
    {
     "data": {
      "text/plain": [
       "(78, array([15, 18, 21, 24]), array([10, 26, 42]))"
      ]
     },
     "execution_count": 57,
     "metadata": {},
     "output_type": "execute_result"
    }
   ],
   "source": [
    "np.sum(data), np.sum(data,axis=0), np.sum(data,axis=1)\n",
    "# axis=0은 열(column) 방향, axis=1은 행(row) 방향을 의미"
   ]
  },
  {
   "cell_type": "code",
   "execution_count": 59,
   "id": "c06ea92e-5c44-46e9-977c-3ea7be10f41f",
   "metadata": {},
   "outputs": [
    {
     "data": {
      "text/plain": [
       "array([[ 1,  2,  3,  4],\n",
       "       [ 5,  6,  7,  8],\n",
       "       [ 9, 10, 11, 12],\n",
       "       [15, 18, 21, 24]])"
      ]
     },
     "execution_count": 59,
     "metadata": {},
     "output_type": "execute_result"
    }
   ],
   "source": [
    "np.concatenate([data,np.sum(data,axis=0)[np.newaxis,:]]) # 열방향 합계 추가"
   ]
  },
  {
   "cell_type": "code",
   "execution_count": 64,
   "id": "53a26f18-7d81-47cb-baf3-d018211695e6",
   "metadata": {},
   "outputs": [
    {
     "data": {
      "text/plain": [
       "array([16, 12,  6, 24, 21, 18, 23, 27, 24, 27])"
      ]
     },
     "execution_count": 64,
     "metadata": {},
     "output_type": "execute_result"
    }
   ],
   "source": [
    "values = np.random.randint(0, 30, 10)\n",
    "values"
   ]
  },
  {
   "cell_type": "code",
   "execution_count": 65,
   "id": "0bcd1a85-9d20-4bd1-98dd-d5375b6d8e85",
   "metadata": {},
   "outputs": [
    {
     "data": {
      "text/plain": [
       "array([2, 1, 0, 5, 4, 6, 3, 8, 7, 9], dtype=int64)"
      ]
     },
     "execution_count": 65,
     "metadata": {},
     "output_type": "execute_result"
    }
   ],
   "source": [
    "np.argsort(values) # argsort는 index값을 반환함"
   ]
  },
  {
   "cell_type": "code",
   "execution_count": 71,
   "id": "b882a6bc-e883-4c4c-aa60-689f9d85f019",
   "metadata": {},
   "outputs": [
    {
     "name": "stdout",
     "output_type": "stream",
     "text": [
      "order,name,height(cm)\n",
      "1,George Washington,189\n",
      "2,John Adams,170\n",
      "3,Thomas Jefferson,189\n",
      "4,James Madison,163\n",
      "5,James Monroe,183\n",
      "6,John Quincy Adams,171\n",
      "7,Andrew Jackson,185\n",
      "8,Martin Van Buren,168\n",
      "9,William Henry Harrison,173\n",
      "10,John Tyler,183\n",
      "11,James K. Polk,173\n",
      "12,Zachary Taylor,173\n",
      "13,Millard Fillmore,175\n",
      "14,Franklin Pierce,178\n",
      "15,James Buchanan,183\n",
      "16,Abraham Lincoln,193\n",
      "17,Andrew Johnson,178\n",
      "18,Ulysses S. Grant,173\n",
      "19,Rutherford B. Hayes,174\n",
      "20,James A. Garfield,183\n",
      "21,Chester A. Arthur,183\n",
      "23,Benjamin Harrison,168\n",
      "25,William McKinley,170\n",
      "26,Theodore Roosevelt,178\n",
      "27,William Howard Taft,182\n",
      "28,Woodrow Wilson,180\n",
      "29,Warren G. Harding,183\n",
      "30,Calvin Coolidge,178\n",
      "31,Herbert Hoover,182\n",
      "32,Franklin D. Roosevelt,188\n",
      "33,Harry S. Truman,175\n",
      "34,Dwight D. Eisenhower,179\n",
      "35,John F. Kennedy,183\n",
      "36,Lyndon B. Johnson,193\n",
      "37,Richard Nixon,182\n",
      "38,Gerald Ford,183\n",
      "39,Jimmy Carter,177\n",
      "40,Ronald Reagan,185\n",
      "41,George H. W. Bush,188\n",
      "42,Bill Clinton,188\n",
      "43,George W. Bush,182\n",
      "44,Barack Obama,185\n"
     ]
    }
   ],
   "source": [
    "# 여기서는 역슬래시\n",
    "!type python-ds-handbook\\notebooks\\data\\president_heights.csv"
   ]
  },
  {
   "cell_type": "code",
   "execution_count": 77,
   "id": "4baedf6c-31d7-46be-8287-4fed207750d4",
   "metadata": {},
   "outputs": [
    {
     "name": "stdout",
     "output_type": "stream",
     "text": [
      "['1,George', 'Washington,189']\n",
      "['2,John', 'Adams,170']\n",
      "['3,Thomas', 'Jefferson,189']\n",
      "['4,James', 'Madison,163']\n",
      "['5,James', 'Monroe,183']\n",
      "['6,John', 'Quincy', 'Adams,171']\n",
      "['7,Andrew', 'Jackson,185']\n",
      "['8,Martin', 'Van', 'Buren,168']\n",
      "['9,William', 'Henry', 'Harrison,173']\n",
      "['10,John', 'Tyler,183']\n",
      "['11,James', 'K.', 'Polk,173']\n",
      "['12,Zachary', 'Taylor,173']\n",
      "['13,Millard', 'Fillmore,175']\n",
      "['14,Franklin', 'Pierce,178']\n",
      "['15,James', 'Buchanan,183']\n",
      "['16,Abraham', 'Lincoln,193']\n",
      "['17,Andrew', 'Johnson,178']\n",
      "['18,Ulysses', 'S.', 'Grant,173']\n",
      "['19,Rutherford', 'B.', 'Hayes,174']\n",
      "['20,James', 'A.', 'Garfield,183']\n",
      "['21,Chester', 'A.', 'Arthur,183']\n",
      "['23,Benjamin', 'Harrison,168']\n",
      "['25,William', 'McKinley,170']\n",
      "['26,Theodore', 'Roosevelt,178']\n",
      "['27,William', 'Howard', 'Taft,182']\n",
      "['28,Woodrow', 'Wilson,180']\n",
      "['29,Warren', 'G.', 'Harding,183']\n",
      "['30,Calvin', 'Coolidge,178']\n",
      "['31,Herbert', 'Hoover,182']\n",
      "['32,Franklin', 'D.', 'Roosevelt,188']\n",
      "['33,Harry', 'S.', 'Truman,175']\n",
      "['34,Dwight', 'D.', 'Eisenhower,179']\n",
      "['35,John', 'F.', 'Kennedy,183']\n",
      "['36,Lyndon', 'B.', 'Johnson,193']\n",
      "['37,Richard', 'Nixon,182']\n",
      "['38,Gerald', 'Ford,183']\n",
      "['39,Jimmy', 'Carter,177']\n",
      "['40,Ronald', 'Reagan,185']\n",
      "['41,George', 'H.', 'W.', 'Bush,188']\n",
      "['42,Bill', 'Clinton,188']\n",
      "['43,George', 'W.', 'Bush,182']\n",
      "['44,Barack', 'Obama,185']\n"
     ]
    },
    {
     "data": {
      "text/plain": [
       "(179.73809523809524, numpy.float64)"
      ]
     },
     "execution_count": 77,
     "metadata": {},
     "output_type": "execute_result"
    }
   ],
   "source": [
    "# 여기서는 슬래시\n",
    "with open('python-ds-handbook/notebooks/data/president_heights.csv') as f:\n",
    "    f.readline()\n",
    "    heights=[]\n",
    "    for line in f.readlines():\n",
    "        print(line.rstrip().split())\n",
    "        heights.append(int(line.rstrip().split(',')[-1]))\n",
    "heights_np = np.asarray(heights)\n",
    "np.average(heights_np), type(np.average(heights_np))"
   ]
  },
  {
   "cell_type": "markdown",
   "id": "f201b131-cfd6-4619-af82-7d71c6465023",
   "metadata": {},
   "source": [
    "## p.72- 브로드캐스팅 (확장)"
   ]
  },
  {
   "cell_type": "code",
   "execution_count": null,
   "id": "4265f3d6-5baa-44b5-aaed-eb011c591b57",
   "metadata": {},
   "outputs": [],
   "source": [
    "# 규칙 1 : 두 배열의 차원수가 다르면 더 작은차원을 가진 배열 앞쪽을 1로 채움\n",
    "# 규칙 2 : 두 배열이 어떤 차원에서도 일치하지 않으면  해당차원의 형상이 1인 배열이 다른형상과 일치하도록 함\n",
    "# 규칙 3 : 임의의 차원에서도 일치하지 않고 1도 아니면 오류"
   ]
  },
  {
   "cell_type": "code",
   "execution_count": 78,
   "id": "15c0284a-9c7d-48e5-9b10-0fed95392201",
   "metadata": {},
   "outputs": [
    {
     "data": {
      "text/plain": [
       "array([5, 6, 7])"
      ]
     },
     "execution_count": 78,
     "metadata": {},
     "output_type": "execute_result"
    }
   ],
   "source": [
    "a = np.array([0,1,2])\n",
    "b = np.array([5,5,5])\n",
    "a+b"
   ]
  },
  {
   "cell_type": "code",
   "execution_count": 79,
   "id": "d3761922-d187-4e58-a135-e07386ffb65a",
   "metadata": {},
   "outputs": [
    {
     "data": {
      "text/plain": [
       "array([5, 6, 7])"
      ]
     },
     "execution_count": 79,
     "metadata": {},
     "output_type": "execute_result"
    }
   ],
   "source": [
    "a + 5"
   ]
  },
  {
   "cell_type": "code",
   "execution_count": 80,
   "id": "4db2c36e-6658-4fbd-a926-38eb8006675a",
   "metadata": {},
   "outputs": [
    {
     "data": {
      "text/plain": [
       "array([[1., 1., 1.],\n",
       "       [1., 1., 1.],\n",
       "       [1., 1., 1.]])"
      ]
     },
     "execution_count": 80,
     "metadata": {},
     "output_type": "execute_result"
    }
   ],
   "source": [
    "M = np.ones((3,3))\n",
    "M"
   ]
  },
  {
   "cell_type": "code",
   "execution_count": 81,
   "id": "cfed05fc-100f-480a-92cc-b10f8574d97e",
   "metadata": {},
   "outputs": [
    {
     "data": {
      "text/plain": [
       "array([[1., 2., 3.],\n",
       "       [1., 2., 3.],\n",
       "       [1., 2., 3.]])"
      ]
     },
     "execution_count": 81,
     "metadata": {},
     "output_type": "execute_result"
    }
   ],
   "source": [
    "M + a # 1차원 배열인 a가 M에 맞추기위해 두번째차원까지 브로드캐스팅됨"
   ]
  },
  {
   "cell_type": "code",
   "execution_count": 82,
   "id": "7ab914e8-1263-48e5-9f6a-1f791c194a9b",
   "metadata": {},
   "outputs": [
    {
     "name": "stdout",
     "output_type": "stream",
     "text": [
      "[0 1 2]\n",
      "[[0]\n",
      " [1]\n",
      " [2]]\n"
     ]
    }
   ],
   "source": [
    "a = np.arange(3)\n",
    "b = np.arange(3)[:,np.newaxis]\n",
    "print(a)\n",
    "print(b)"
   ]
  },
  {
   "cell_type": "code",
   "execution_count": 83,
   "id": "6bba38c6-9dea-45c4-9923-f3510844ee7c",
   "metadata": {},
   "outputs": [
    {
     "data": {
      "text/plain": [
       "array([[0, 1, 2],\n",
       "       [1, 2, 3],\n",
       "       [2, 3, 4]])"
      ]
     },
     "execution_count": 83,
     "metadata": {},
     "output_type": "execute_result"
    }
   ],
   "source": [
    "a + b # 두 배열 모두 브로드캐스팅"
   ]
  },
  {
   "cell_type": "code",
   "execution_count": 89,
   "id": "bcc89aee-41a3-4b03-bdfb-19702c18caca",
   "metadata": {},
   "outputs": [
    {
     "name": "stdout",
     "output_type": "stream",
     "text": [
      "[[1. 1. 1.]\n",
      " [1. 1. 1.]]\n",
      "[0 1 2]\n",
      "[[1. 2. 3.]\n",
      " [1. 2. 3.]]\n"
     ]
    }
   ],
   "source": [
    "M = np.ones((2,3))\n",
    "m = np.arange(3)\n",
    "print(M)\n",
    "print(m)\n",
    "print(M + a)"
   ]
  },
  {
   "cell_type": "code",
   "execution_count": 91,
   "id": "2892b8fa-6f59-4663-b786-26fb8961eefd",
   "metadata": {},
   "outputs": [
    {
     "name": "stdout",
     "output_type": "stream",
     "text": [
      "[[0]\n",
      " [1]\n",
      " [2]]\n",
      "[0 1 2]\n",
      "[[0 1 2]\n",
      " [1 2 3]\n",
      " [2 3 4]]\n"
     ]
    }
   ],
   "source": [
    "a = np.arange(3).reshape((3,1))\n",
    "b = np.arange(3)\n",
    "print(a)\n",
    "print(b)\n",
    "print(a+b)"
   ]
  },
  {
   "cell_type": "code",
   "execution_count": 92,
   "id": "59ea3615-43de-47cf-97c0-3e7c5710bbc9",
   "metadata": {},
   "outputs": [
    {
     "name": "stdout",
     "output_type": "stream",
     "text": [
      "[[1. 1.]\n",
      " [1. 1.]\n",
      " [1. 1.]]\n",
      "[0 1 2]\n"
     ]
    }
   ],
   "source": [
    "M = np.ones((3,2))\n",
    "a = np.arange(3)\n",
    "print(M)\n",
    "print(a)"
   ]
  },
  {
   "cell_type": "code",
   "execution_count": 93,
   "id": "f5c86b8d-b4c8-457e-8c0f-6145c0b40b9f",
   "metadata": {},
   "outputs": [
    {
     "ename": "ValueError",
     "evalue": "operands could not be broadcast together with shapes (3,2) (3,) ",
     "output_type": "error",
     "traceback": [
      "\u001b[1;31m---------------------------------------------------------------------------\u001b[0m",
      "\u001b[1;31mValueError\u001b[0m                                Traceback (most recent call last)",
      "Cell \u001b[1;32mIn[93], line 1\u001b[0m\n\u001b[1;32m----> 1\u001b[0m \u001b[38;5;28mprint\u001b[39m(\u001b[43mM\u001b[49m\u001b[38;5;241;43m+\u001b[39;49m\u001b[43ma\u001b[49m)\n",
      "\u001b[1;31mValueError\u001b[0m: operands could not be broadcast together with shapes (3,2) (3,) "
     ]
    }
   ],
   "source": [
    "print(M+a) # 오류 : 브로드캐스팅 규칙이 적용되지 않음"
   ]
  },
  {
   "cell_type": "code",
   "execution_count": 100,
   "id": "72d18b77-6cd0-46b9-a9bd-04964fd1dc60",
   "metadata": {},
   "outputs": [
    {
     "data": {
      "text/plain": [
       "array([0.        , 0.10204082, 0.20408163, 0.30612245, 0.40816327,\n",
       "       0.51020408, 0.6122449 , 0.71428571, 0.81632653, 0.91836735,\n",
       "       1.02040816, 1.12244898, 1.2244898 , 1.32653061, 1.42857143,\n",
       "       1.53061224, 1.63265306, 1.73469388, 1.83673469, 1.93877551,\n",
       "       2.04081633, 2.14285714, 2.24489796, 2.34693878, 2.44897959,\n",
       "       2.55102041, 2.65306122, 2.75510204, 2.85714286, 2.95918367,\n",
       "       3.06122449, 3.16326531, 3.26530612, 3.36734694, 3.46938776,\n",
       "       3.57142857, 3.67346939, 3.7755102 , 3.87755102, 3.97959184,\n",
       "       4.08163265, 4.18367347, 4.28571429, 4.3877551 , 4.48979592,\n",
       "       4.59183673, 4.69387755, 4.79591837, 4.89795918, 5.        ])"
      ]
     },
     "execution_count": 100,
     "metadata": {},
     "output_type": "execute_result"
    }
   ],
   "source": [
    "X = np.random.random((10,3))\n",
    "x"
   ]
  },
  {
   "cell_type": "code",
   "execution_count": 101,
   "id": "a9046dc4-acaa-4ece-b323-7f3ee2898c9f",
   "metadata": {},
   "outputs": [
    {
     "data": {
      "text/plain": [
       "array([0.60588869, 0.5527954 , 0.41294727])"
      ]
     },
     "execution_count": 101,
     "metadata": {},
     "output_type": "execute_result"
    }
   ],
   "source": [
    "Xmean = X.mean(0)\n",
    "Xmean"
   ]
  },
  {
   "cell_type": "code",
   "execution_count": 102,
   "id": "6069faac-1628-4ea4-b4ca-27b844e900b5",
   "metadata": {},
   "outputs": [
    {
     "data": {
      "text/plain": [
       "array([-5.55111512e-17,  1.44328993e-16, -2.22044605e-17])"
      ]
     },
     "execution_count": 102,
     "metadata": {},
     "output_type": "execute_result"
    }
   ],
   "source": [
    "# ! 생각해내기 어려움 !\n",
    "X_centered = X- Xmean\n",
    "X_centered.mean(0) # 근사치 0이 나오면 맞음"
   ]
  },
  {
   "cell_type": "markdown",
   "id": "94f244db-c05d-4b01-85c5-f74203e0783f",
   "metadata": {},
   "source": [
    "#### 2차원 함수 플로팅하기"
   ]
  },
  {
   "cell_type": "code",
   "execution_count": 97,
   "id": "58f30c45-ae00-4580-813a-dd059a9186e5",
   "metadata": {},
   "outputs": [],
   "source": [
    "x = np.linspace(0,5,50)\n",
    "y = np.linspace(0,5,50)[:,np.newaxis]\n",
    "z = np.sin(x)**10+np.cos(10+y*x)+np.cos(x)"
   ]
  },
  {
   "cell_type": "code",
   "execution_count": 98,
   "id": "cd3aa311-b764-4fb2-b9f1-e0f2d71e1b78",
   "metadata": {},
   "outputs": [],
   "source": [
    "%matplotlib inline\n",
    "import matplotlib.pyplot as plt"
   ]
  },
  {
   "cell_type": "code",
   "execution_count": 99,
   "id": "0b1a74c4-bcad-468f-bfb0-ed37799870e7",
   "metadata": {},
   "outputs": [
    {
     "data": {
      "image/png": "[encoded data removed]",
      "text/plain": [
       "<Figure size 640x480 with 2 Axes>"
      ]
     },
     "metadata": {},
     "output_type": "display_data"
    }
   ],
   "source": [
    "plt.imshow(z,origin=\"lower\",extent=[0,5,0,5],\n",
    "               cmap=\"viridis\")\n",
    "plt.colorbar();"
   ]
  },
  {
   "cell_type": "markdown",
   "id": "1df7b06d-0802-4873-b57c-f1792b87b9a4",
   "metadata": {},
   "source": [
    "## p.79- 비교, 마스크, 부울 로직"
   ]
  },
  {
   "cell_type": "code",
   "execution_count": 147,
   "id": "5cabc72a-dce1-4fbd-bd12-55b3a98df2db",
   "metadata": {},
   "outputs": [],
   "source": [
    "import pandas as pd\n",
    "import numpy as np"
   ]
  },
  {
   "cell_type": "code",
   "execution_count": 117,
   "id": "2dd56f80-3100-4fbc-aab7-6120e22413a3",
   "metadata": {},
   "outputs": [
    {
     "data": {
      "text/plain": [
       "(365,)"
      ]
     },
     "execution_count": 117,
     "metadata": {},
     "output_type": "execute_result"
    }
   ],
   "source": [
    "rainfall = pd.read_csv('python-ds-handbook/notebooks/data/Seattle2014.csv')['PRCP'].values\n",
    "inches = rainfall / 254 #1/10mm -> inches\n",
    "inches.shape"
   ]
  },
  {
   "cell_type": "code",
   "execution_count": 131,
   "id": "4f0af076-50d5-463a-9d23-28d1ff981d84",
   "metadata": {},
   "outputs": [
    {
     "name": "stdout",
     "output_type": "stream",
     "text": [
      "Collecting seaborn\n",
      "  Downloading seaborn-0.13.2-py3-none-any.whl.metadata (5.4 kB)\n",
      "Requirement already satisfied: numpy!=1.24.0,>=1.20 in c:\\users\\user\\appdata\\roaming\\python\\python39\\site-packages (from seaborn) (1.26.4)\n",
      "Requirement already satisfied: pandas>=1.2 in c:\\users\\user\\appdata\\roaming\\python\\python39\\site-packages (from seaborn) (2.2.2)\n",
      "Requirement already satisfied: matplotlib!=3.6.1,>=3.4 in c:\\users\\user\\appdata\\roaming\\python\\python39\\site-packages (from seaborn) (3.9.0)\n",
      "Requirement already satisfied: contourpy>=1.0.1 in c:\\users\\user\\appdata\\roaming\\python\\python39\\site-packages (from matplotlib!=3.6.1,>=3.4->seaborn) (1.2.1)\n",
      "Requirement already satisfied: cycler>=0.10 in c:\\users\\user\\appdata\\roaming\\python\\python39\\site-packages (from matplotlib!=3.6.1,>=3.4->seaborn) (0.12.1)\n",
      "Requirement already satisfied: fonttools>=4.22.0 in c:\\users\\user\\appdata\\roaming\\python\\python39\\site-packages (from matplotlib!=3.6.1,>=3.4->seaborn) (4.51.0)\n",
      "Requirement already satisfied: kiwisolver>=1.3.1 in c:\\users\\user\\appdata\\roaming\\python\\python39\\site-packages (from matplotlib!=3.6.1,>=3.4->seaborn) (1.4.5)\n",
      "Requirement already satisfied: packaging>=20.0 in c:\\users\\user\\appdata\\roaming\\python\\python39\\site-packages (from matplotlib!=3.6.1,>=3.4->seaborn) (24.0)\n",
      "Requirement already satisfied: pillow>=8 in c:\\users\\user\\appdata\\roaming\\python\\python39\\site-packages (from matplotlib!=3.6.1,>=3.4->seaborn) (10.3.0)\n",
      "Requirement already satisfied: pyparsing>=2.3.1 in c:\\users\\user\\appdata\\roaming\\python\\python39\\site-packages (from matplotlib!=3.6.1,>=3.4->seaborn) (3.1.2)\n",
      "Requirement already satisfied: python-dateutil>=2.7 in c:\\users\\user\\appdata\\roaming\\python\\python39\\site-packages (from matplotlib!=3.6.1,>=3.4->seaborn) (2.9.0.post0)\n",
      "Requirement already satisfied: importlib-resources>=3.2.0 in c:\\users\\user\\appdata\\roaming\\python\\python39\\site-packages (from matplotlib!=3.6.1,>=3.4->seaborn) (6.4.0)\n",
      "Requirement already satisfied: pytz>=2020.1 in c:\\users\\user\\appdata\\roaming\\python\\python39\\site-packages (from pandas>=1.2->seaborn) (2024.1)\n",
      "Requirement already satisfied: tzdata>=2022.7 in c:\\users\\user\\appdata\\roaming\\python\\python39\\site-packages (from pandas>=1.2->seaborn) (2024.1)\n",
      "Requirement already satisfied: zipp>=3.1.0 in c:\\users\\user\\appdata\\roaming\\python\\python39\\site-packages (from importlib-resources>=3.2.0->matplotlib!=3.6.1,>=3.4->seaborn) (3.18.2)\n",
      "Requirement already satisfied: six>=1.5 in c:\\users\\user\\appdata\\roaming\\python\\python39\\site-packages (from python-dateutil>=2.7->matplotlib!=3.6.1,>=3.4->seaborn) (1.16.0)\n",
      "Downloading seaborn-0.13.2-py3-none-any.whl (294 kB)\n",
      "   ---------------------------------------- 0.0/294.9 kB ? eta -:--:--\n",
      "   --------------------------------- ------ 245.8/294.9 kB 7.6 MB/s eta 0:00:01\n",
      "   ---------------------------------------- 294.9/294.9 kB 6.1 MB/s eta 0:00:00\n",
      "Installing collected packages: seaborn\n",
      "Successfully installed seaborn-0.13.2\n"
     ]
    }
   ],
   "source": [
    "!pip install seaborn"
   ]
  },
  {
   "cell_type": "code",
   "execution_count": 132,
   "id": "218cb470-eb0c-44e2-99bc-ec54739ec41f",
   "metadata": {},
   "outputs": [],
   "source": [
    "%matplotlib inline\n",
    "import matplotlib.pyplot as plt\n",
    "import seaborn\n",
    "seaborn.set()"
   ]
  },
  {
   "cell_type": "code",
   "execution_count": 124,
   "id": "2ec7014b-2ed2-4ac7-ac4f-73c531574f3b",
   "metadata": {},
   "outputs": [],
   "source": [
    "x = np.random.randint(10, size=(3,4))"
   ]
  },
  {
   "cell_type": "code",
   "execution_count": 126,
   "id": "ad3ef54a-de12-4417-9968-0d4878b766c8",
   "metadata": {},
   "outputs": [
    {
     "data": {
      "text/plain": [
       "5"
      ]
     },
     "execution_count": 126,
     "metadata": {},
     "output_type": "execute_result"
    }
   ],
   "source": [
    "np.count_nonzero(x<6) # 6보다 작은 값의 개수"
   ]
  },
  {
   "cell_type": "code",
   "execution_count": 127,
   "id": "c8220d7a-b502-4a04-92bc-cb48fc9d076d",
   "metadata": {},
   "outputs": [
    {
     "data": {
      "text/plain": [
       "5"
      ]
     },
     "execution_count": 127,
     "metadata": {},
     "output_type": "execute_result"
    }
   ],
   "source": [
    "np.sum(x<6)"
   ]
  },
  {
   "cell_type": "code",
   "execution_count": 128,
   "id": "149536fc-8d87-4966-9021-87a422fc0081",
   "metadata": {},
   "outputs": [
    {
     "data": {
      "text/plain": [
       "array([3, 1, 1])"
      ]
     },
     "execution_count": 128,
     "metadata": {},
     "output_type": "execute_result"
    }
   ],
   "source": [
    "np.sum(x<6,axis=1) # 각 행에서 합계"
   ]
  },
  {
   "cell_type": "code",
   "execution_count": 129,
   "id": "fd575378-dc0c-4727-b474-39d413bb0f18",
   "metadata": {},
   "outputs": [
    {
     "data": {
      "text/plain": [
       "True"
      ]
     },
     "execution_count": 129,
     "metadata": {},
     "output_type": "execute_result"
    }
   ],
   "source": [
    "np.any(x>8) # 하나라도 있는지"
   ]
  },
  {
   "cell_type": "code",
   "execution_count": 130,
   "id": "7a7af26b-786f-49f9-8633-5e3f1bc634b6",
   "metadata": {},
   "outputs": [
    {
     "data": {
      "text/plain": [
       "False"
      ]
     },
     "execution_count": 130,
     "metadata": {},
     "output_type": "execute_result"
    }
   ],
   "source": [
    "np.all(x<0) # 모든 요소가 해당되는지"
   ]
  },
  {
   "cell_type": "code",
   "execution_count": null,
   "id": "b7c8ff25-4b75-42f7-ba96-f692b8606adf",
   "metadata": {},
   "outputs": [],
   "source": [
    "# 부울연산자 (&:and, |:or, ^:xor, ~:not)"
   ]
  },
  {
   "cell_type": "code",
   "execution_count": 135,
   "id": "5db64af9-9b7f-42e3-b1af-8978c9795bcb",
   "metadata": {},
   "outputs": [
    {
     "data": {
      "text/plain": [
       "29"
      ]
     },
     "execution_count": 135,
     "metadata": {},
     "output_type": "execute_result"
    }
   ],
   "source": [
    "np.sum(~((inches<=0.5)|(inches>=1)))"
   ]
  },
  {
   "cell_type": "code",
   "execution_count": 137,
   "id": "357faff9-748e-47d5-b9d7-200b6494343b",
   "metadata": {},
   "outputs": [],
   "source": [
    "# 비가 온 모든 날에 대한 마스크\n",
    "rainy = (inches>0)\n",
    "# 여름에 해당하는 날에 대한 마스크 (cf.6월 21일이 172번째날이라서)\n",
    "summer = (np.arange(365)-172 < 90) & (np.arange(365)-172 >0)"
   ]
  },
  {
   "cell_type": "code",
   "execution_count": 138,
   "id": "1c74d35d-1df1-4b0c-9bc8-a18784eff3fe",
   "metadata": {},
   "outputs": [
    {
     "name": "stdout",
     "output_type": "stream",
     "text": [
      "Maximum precip on summer days in 2014 :  0.8503937007874016\n"
     ]
    }
   ],
   "source": [
    "print(\"Maximum precip on summer days in 2014 : \", np.max(inches[summer]))"
   ]
  },
  {
   "cell_type": "code",
   "execution_count": 139,
   "id": "e9aa216b-92d4-455a-8ce5-904a040bbbeb",
   "metadata": {},
   "outputs": [
    {
     "name": "stdout",
     "output_type": "stream",
     "text": [
      "Median precip on non-summer rainy days :  0.20078740157480315\n"
     ]
    }
   ],
   "source": [
    "print(\"Median precip on non-summer rainy days : \", np.median(inches[rainy&~summer]))"
   ]
  },
  {
   "cell_type": "code",
   "execution_count": 125,
   "id": "cec54364-077d-4f32-b8d8-74aa33c094b5",
   "metadata": {},
   "outputs": [
    {
     "data": {
      "text/plain": [
       "array([[ True,  True,  True,  True],\n",
       "       [ True,  True, False, False],\n",
       "       [False, False,  True,  True]])"
      ]
     },
     "execution_count": 125,
     "metadata": {},
     "output_type": "execute_result"
    }
   ],
   "source": [
    "even_mask = (x%2==0)\n",
    "even_mask"
   ]
  },
  {
   "cell_type": "markdown",
   "id": "598aecae-6906-434c-93f0-dd866086631f",
   "metadata": {},
   "source": [
    "## p.88- 펜시인덱싱"
   ]
  },
  {
   "cell_type": "code",
   "execution_count": 143,
   "id": "d9b260d6-44cb-42ca-98c3-e1737828fd0d",
   "metadata": {},
   "outputs": [
    {
     "data": {
      "text/plain": [
       "array([51, 92, 14, 71, 60, 20, 82, 86, 74, 74])"
      ]
     },
     "execution_count": 143,
     "metadata": {},
     "output_type": "execute_result"
    }
   ],
   "source": [
    "rand = np.random.RandomState(42)\n",
    "x = rand.randint(100, size=10)\n",
    "x"
   ]
  },
  {
   "cell_type": "code",
   "execution_count": 144,
   "id": "5e6c5a68-ed24-4764-85b6-0281f26d1c75",
   "metadata": {},
   "outputs": [
    {
     "data": {
      "text/plain": [
       "[71, 86, 74]"
      ]
     },
     "execution_count": 144,
     "metadata": {},
     "output_type": "execute_result"
    }
   ],
   "source": [
    "[x[3],x[7],x[9]]"
   ]
  },
  {
   "cell_type": "code",
   "execution_count": 145,
   "id": "31e78140-9c98-4fd8-8f96-71a9ad7451cb",
   "metadata": {},
   "outputs": [
    {
     "data": {
      "text/plain": [
       "array([71, 86, 74])"
      ]
     },
     "execution_count": 145,
     "metadata": {},
     "output_type": "execute_result"
    }
   ],
   "source": [
    "index=[3,7,9]\n",
    "x[index]"
   ]
  },
  {
   "cell_type": "code",
   "execution_count": 149,
   "id": "525d1799-1173-428e-b062-b0a87f5c7f88",
   "metadata": {},
   "outputs": [
    {
     "data": {
      "text/plain": [
       "array([[71, 86],\n",
       "       [60, 20]])"
      ]
     },
     "execution_count": 149,
     "metadata": {},
     "output_type": "execute_result"
    }
   ],
   "source": [
    "# 펜시인덱싱 -> 인덱싱 대상 배열의 형상이 아니라 인덱스 배열의 형상을 반영함\n",
    "# 원래라면 파이썬list에서는 [data[2],data[3]] 해야하는걸 넘파이array에서는 data[[2,3]] 이렇게 작성가능\n",
    "index = np.array([[3,7],\n",
    "                  [4,5]]) # (3,4)와 (7,5)의 값을 가져옴\n",
    "x[index]"
   ]
  },
  {
   "cell_type": "code",
   "execution_count": 152,
   "id": "7dbc79c1-52ec-4d35-a073-e560079e08c5",
   "metadata": {},
   "outputs": [
    {
     "data": {
      "text/plain": [
       "array([[ 0,  1,  2,  3],\n",
       "       [ 4,  5,  6,  7],\n",
       "       [ 8,  9, 10, 11]])"
      ]
     },
     "execution_count": 152,
     "metadata": {},
     "output_type": "execute_result"
    }
   ],
   "source": [
    "X = np.arange(12).reshape((3,4))\n",
    "X"
   ]
  },
  {
   "cell_type": "code",
   "execution_count": 153,
   "id": "dc4c8fe3-32e5-4aa3-bcbd-6c6812b1e675",
   "metadata": {},
   "outputs": [
    {
     "data": {
      "text/plain": [
       "array([10,  8, 10])"
      ]
     },
     "execution_count": 153,
     "metadata": {},
     "output_type": "execute_result"
    }
   ],
   "source": [
    "# 펜시인덱스와 단순인덱스 결합\n",
    "X[2,[2,0,2]]"
   ]
  },
  {
   "cell_type": "code",
   "execution_count": 154,
   "id": "39755899-b6ae-4d97-b43f-778c55341e4c",
   "metadata": {},
   "outputs": [
    {
     "data": {
      "text/plain": [
       "array([[ 6,  4,  5],\n",
       "       [10,  8,  9]])"
      ]
     },
     "execution_count": 154,
     "metadata": {},
     "output_type": "execute_result"
    }
   ],
   "source": [
    "# 펜시인덱스와 슬라이싱 결합\n",
    "X[1:,[2,0,1]]"
   ]
  },
  {
   "cell_type": "code",
   "execution_count": 156,
   "id": "82c4c8fe-ad07-4221-823d-30f0806d4a17",
   "metadata": {},
   "outputs": [
    {
     "data": {
      "text/plain": [
       "array([[ 0,  2],\n",
       "       [ 4,  6],\n",
       "       [ 8, 10]])"
      ]
     },
     "execution_count": 156,
     "metadata": {},
     "output_type": "execute_result"
    }
   ],
   "source": [
    "# 펜시인덱스와 마스크 결합\n",
    "row = np.array([0,1,2])\n",
    "mask = np.array([1,0,1,0],dtype=bool)\n",
    "X[row[:,np.newaxis],mask]"
   ]
  },
  {
   "cell_type": "markdown",
   "id": "adb86b44-7bb0-4aba-8db0-3d83a3f83ef6",
   "metadata": {},
   "source": [
    "#### sorted, sort"
   ]
  },
  {
   "cell_type": "code",
   "execution_count": 158,
   "id": "35cea27f-e331-4d01-9b6d-776c8bfe9c67",
   "metadata": {},
   "outputs": [
    {
     "data": {
      "text/plain": [
       "([2, 3, 3, 5, 6], [3, 5, 6, 2, 3])"
      ]
     },
     "execution_count": 158,
     "metadata": {},
     "output_type": "execute_result"
    }
   ],
   "source": [
    "lst = [3,5,6,2,3]\n",
    "sorted(lst), lst"
   ]
  },
  {
   "cell_type": "code",
   "execution_count": 159,
   "id": "f492ec57-6688-46a1-9c63-fd1768fb0f2e",
   "metadata": {},
   "outputs": [
    {
     "data": {
      "text/plain": [
       "(None, [2, 3, 3, 5, 6])"
      ]
     },
     "execution_count": 159,
     "metadata": {},
     "output_type": "execute_result"
    }
   ],
   "source": [
    "lst.sort(), lst"
   ]
  },
  {
   "cell_type": "code",
   "execution_count": 160,
   "id": "7ee388eb-66e3-4454-aa0f-ee08ad61fb4c",
   "metadata": {},
   "outputs": [
    {
     "data": {
      "text/plain": [
       "(array([3, 3, 4, 5, 7]), array([3, 5, 7, 3, 4]))"
      ]
     },
     "execution_count": 160,
     "metadata": {},
     "output_type": "execute_result"
    }
   ],
   "source": [
    "data = np.array([3,5,7,3,4])\n",
    "np.sort(data), data"
   ]
  },
  {
   "cell_type": "code",
   "execution_count": 161,
   "id": "9af7c053-0060-4c6c-8839-a305bcc9fb65",
   "metadata": {},
   "outputs": [
    {
     "data": {
      "text/plain": [
       "(None, array([3, 3, 4, 5, 7]))"
      ]
     },
     "execution_count": 161,
     "metadata": {},
     "output_type": "execute_result"
    }
   ],
   "source": [
    "data.sort(), data"
   ]
  }
 ],
 "metadata": {
  "kernelspec": {
   "display_name": "Python 3 (ipykernel)",
   "language": "python",
   "name": "python3"
  },
  "language_info": {
   "codemirror_mode": {
    "name": "ipython",
    "version": 3
   },
   "file_extension": ".py",
   "mimetype": "text/x-python",
   "name": "python",
   "nbconvert_exporter": "python",
   "pygments_lexer": "ipython3",
   "version": "3.9.13"
  }
 },
 "nbformat": 4,
 "nbformat_minor": 5
}
